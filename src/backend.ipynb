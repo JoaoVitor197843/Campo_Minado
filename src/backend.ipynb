{
 "cells": [
  {
   "cell_type": "code",
   "execution_count": null,
   "id": "bf669b8e",
   "metadata": {},
   "outputs": [],
   "source": [
    "import random"
   ]
  },
  {
   "cell_type": "markdown",
   "id": "10187374",
   "metadata": {},
   "source": [
    "Criação de uma matriz 5x5"
   ]
  },
  {
   "cell_type": "code",
   "execution_count": null,
   "id": "3f39e1a6",
   "metadata": {},
   "outputs": [],
   "source": [
    "colunas = 5\n",
    "linhas = 5\n",
    "campo = [[0 for coluna in range(colunas)] for linha in range(linhas)]"
   ]
  },
  {
   "cell_type": "markdown",
   "id": "4e107469",
   "metadata": {},
   "source": [
    "Definir quantidade de bombas que podem existir na matriz do campo"
   ]
  },
  {
   "cell_type": "code",
   "execution_count": null,
   "id": "da77eb9a",
   "metadata": {},
   "outputs": [],
   "source": [
    "quantidade_bombas = ((colunas * linhas) * 20) // 100"
   ]
  },
  {
   "cell_type": "markdown",
   "id": "8c70445f",
   "metadata": {},
   "source": [
    "Adicionando bombas na matriz do campo"
   ]
  },
  {
   "cell_type": "code",
   "execution_count": null,
   "id": "cd82360c",
   "metadata": {},
   "outputs": [],
   "source": [
    "bombas_adicionadas = 0\n",
    "while bombas_adicionadas < quantidade_bombas:\n",
    "    linha_bomba, coluna_bomba = random.randint(0,4), random.randint(0,4)\n",
    "    if campo[linha_bomba][coluna_bomba] != \"💣\":\n",
    "        campo[linha_bomba][coluna_bomba] = \"💣\"\n",
    "        bombas_adicionadas += 1"
   ]
  },
  {
   "cell_type": "markdown",
   "id": "7883e5b7",
   "metadata": {},
   "source": [
    "Criação de Verificação se caso uma linha e(ou) coluna está dentro do valor do campo"
   ]
  },
  {
   "cell_type": "code",
   "execution_count": null,
   "id": "4b9e652a",
   "metadata": {},
   "outputs": [],
   "source": [
    "def verificacao_limite_do_campo(numero, limite):\n",
    "    if numero < 0:\n",
    "        return False\n",
    "    if numero >= limite:\n",
    "        return False\n",
    "    return True"
   ]
  },
  {
   "cell_type": "markdown",
   "id": "a9d98d91",
   "metadata": {},
   "source": [
    "Adicionando os números de bombas vizinhos"
   ]
  },
  {
   "cell_type": "code",
   "execution_count": null,
   "id": "4930e61f",
   "metadata": {},
   "outputs": [],
   "source": [
    "for numero_linha, linha in enumerate(campo):\n",
    "    for numero_coluna, coluna in enumerate(linha):\n",
    "        if coluna == \"*\":\n",
    "            for adicionar_numero_linha in range(numero_linha - 1, numero_linha + 2):\n",
    "                if not verificacao_limite_do_campo(adicionar_numero_linha, linhas):\n",
    "                    continue\n",
    "                for adicionar_numero_coluna in range(numero_coluna - 1, numero_coluna + 2):\n",
    "                    if not verificacao_limite_do_campo(adicionar_numero_coluna, colunas):\n",
    "                        continue\n",
    "                    if campo[adicionar_numero_linha][adicionar_numero_coluna] != \"💣\":\n",
    "                        campo[adicionar_numero_linha][adicionar_numero_coluna] += 1"
   ]
  },
  {
   "cell_type": "markdown",
   "id": "2bccd1c6",
   "metadata": {},
   "source": [
    "Criação de uma lista para armazenar a localização já vista"
   ]
  },
  {
   "cell_type": "code",
   "execution_count": null,
   "id": "b258ae4b",
   "metadata": {},
   "outputs": [],
   "source": [
    "itens_vistos = set()"
   ]
  },
  {
   "cell_type": "markdown",
   "id": "35157f39",
   "metadata": {},
   "source": [
    "Exibindo A matriz vazia na tela, para esconder onde estão as bombas"
   ]
  },
  {
   "cell_type": "code",
   "execution_count": null,
   "id": "c87c140d",
   "metadata": {},
   "outputs": [],
   "source": [
    "def exibir_campo(campo):\n",
    "    for numero_linha, linha in enumerate(campo):\n",
    "        print(\"\".join((\"|   |\" if (numero_linha, numero_coluna) not in itens_vistos else f\"| {coluna} |\") for numero_coluna, coluna in enumerate(linha)))"
   ]
  },
  {
   "cell_type": "markdown",
   "id": "a5c5a241",
   "metadata": {},
   "source": [
    "Criando a exibição de locais vazios(No momento estão como 0)"
   ]
  },
  {
   "cell_type": "code",
   "execution_count": null,
   "id": "dd40c0a5",
   "metadata": {},
   "outputs": [],
   "source": [
    "from collections import deque\n",
    "def exibir_cadeia_de_espacos_vazios(linha, coluna):\n",
    "    fila_para_exibicao_de_zeros = deque()\n",
    "    fila_para_exibicao_de_zeros.append((linha, coluna))\n",
    "    while fila_para_exibicao_de_zeros:\n",
    "        numero_atual = fila_para_exibicao_de_zeros.popleft()\n",
    "        itens_vistos.add(numero_atual)\n",
    "        for linha_exibicao_zero in range(numero_atual[0] - 1, numero_atual[0] + 2):\n",
    "            if not verificacao_limite_do_campo(linha_exibicao_zero, linhas):\n",
    "                continue\n",
    "            for coluna_exibicao_zero in range(numero_atual[1] - 1, numero_atual[1] + 2):\n",
    "                if not verificacao_limite_do_campo(coluna_exibicao_zero, colunas):\n",
    "                    continue\n",
    "                if campo[linha_exibicao_zero][coluna_exibicao_zero] == 0:\n",
    "                    if ((linha_exibicao_zero, coluna_exibicao_zero) in itens_vistos) or ((linha_exibicao_zero, coluna_exibicao_zero) in fila_para_exibicao_de_zeros):\n",
    "                        continue\n",
    "                    fila_para_exibicao_de_zeros.append((linha_exibicao_zero, coluna_exibicao_zero))\n",
    "                else:\n",
    "                    itens_vistos.add((linha_exibicao_zero, coluna_exibicao_zero))"
   ]
  },
  {
   "cell_type": "markdown",
   "id": "c83c422a",
   "metadata": {},
   "source": [
    "Criando o loop principal"
   ]
  },
  {
   "cell_type": "code",
   "execution_count": null,
   "id": "a55367e6",
   "metadata": {},
   "outputs": [],
   "source": [
    "jogando = True\n",
    "while jogando:\n",
    "    print(\"\\r\")\n",
    "    exibir_campo(campo)\n",
    "    try:\n",
    "        linha_selecionada = int(input(\"Digite o número da linha escolhida: \")) - 1\n",
    "        coluna_selecionada = int(input(\"Digite o número da coluna escolhida: \")) - 1\n",
    "    except ValueError:\n",
    "        raise ValueError(\"Você precisa passar um número inteiro para continuar, reinicie para continuar o jogo\")\n",
    "    if campo[linha_selecionada][coluna_selecionada] == 0:\n",
    "        exibir_cadeia_de_espacos_vazios(linha_selecionada, coluna_selecionada)\n",
    "    itens_vistos.add((linha_selecionada, coluna_selecionada))\n",
    "    if len(itens_vistos) == (colunas*linhas) - quantidade_bombas:\n",
    "        print(\"Parabéns! Você venceu o campo minado, você agora é o rei das partidas! 👑👑 \\nCaso queira continuar, é só reiniciar o jogo\")\n",
    "        jogando = False\n",
    "    if campo[linha_selecionada][coluna_selecionada] == \"💣\":\n",
    "        exibir_campo(campo)\n",
    "        print(\"Você perdeu! Você selecionou uma bomba!\")\n",
    "        jogando = False"
   ]
  }
 ],
 "metadata": {
  "kernelspec": {
   "display_name": "Python 3",
   "language": "python",
   "name": "python3"
  },
  "language_info": {
   "codemirror_mode": {
    "name": "ipython",
    "version": 3
   },
   "file_extension": ".py",
   "mimetype": "text/x-python",
   "name": "python",
   "nbconvert_exporter": "python",
   "pygments_lexer": "ipython3",
   "version": "3.13.3"
  }
 },
 "nbformat": 4,
 "nbformat_minor": 5
}
