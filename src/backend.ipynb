{
 "cells": [
  {
   "cell_type": "code",
   "execution_count": 37,
   "id": "bf669b8e",
   "metadata": {},
   "outputs": [],
   "source": [
    "import random"
   ]
  },
  {
   "cell_type": "markdown",
   "id": "10187374",
   "metadata": {},
   "source": [
    "Criação de uma matriz 5x5"
   ]
  },
  {
   "cell_type": "code",
   "execution_count": 38,
   "id": "3f39e1a6",
   "metadata": {},
   "outputs": [],
   "source": [
    "colunas = 5\n",
    "linhas = 5\n",
    "campo = [[0 for linha in range(linhas)] for coluna in range(colunas)]"
   ]
  },
  {
   "cell_type": "markdown",
   "id": "4e107469",
   "metadata": {},
   "source": [
    "Definir quantidade de bombas que podem existir na matriz do campo"
   ]
  },
  {
   "cell_type": "code",
   "execution_count": 39,
   "id": "da77eb9a",
   "metadata": {},
   "outputs": [],
   "source": [
    "quantidade_bombas = ((colunas * linhas) * 20) // 100"
   ]
  },
  {
   "cell_type": "markdown",
   "id": "8c70445f",
   "metadata": {},
   "source": [
    "Adicionando bombas na matriz do campo"
   ]
  },
  {
   "cell_type": "code",
   "execution_count": 40,
   "id": "cd82360c",
   "metadata": {},
   "outputs": [],
   "source": [
    "bombas_adicionadas = 0\n",
    "while bombas_adicionadas < quantidade_bombas:\n",
    "    coluna_bomba, linha_bomba = random.randint(0,4), random.randint(0,4)\n",
    "    if campo[coluna_bomba][linha_bomba] != \"*\":\n",
    "        campo[coluna_bomba][linha_bomba] = \"*\"\n",
    "        bombas_adicionadas += 1"
   ]
  },
  {
   "cell_type": "markdown",
   "id": "a9d98d91",
   "metadata": {},
   "source": [
    "Adicionando os números de bombas vizinhos"
   ]
  },
  {
   "cell_type": "code",
   "execution_count": 41,
   "id": "4930e61f",
   "metadata": {},
   "outputs": [],
   "source": [
    "for numero_coluna, coluna in enumerate(campo):\n",
    "    for numero_linha, linha in enumerate(coluna):\n",
    "        if linha == \"*\":\n",
    "            for adicionar_numero_coluna in range(numero_coluna - 1, numero_coluna + 2):\n",
    "                if adicionar_numero_coluna < 0:\n",
    "                    continue\n",
    "                if adicionar_numero_coluna >= colunas:\n",
    "                    break\n",
    "                for adicionar_numero_linha in range(numero_linha - 1, numero_linha + 2):\n",
    "                    if adicionar_numero_linha < 0:\n",
    "                        continue\n",
    "                    if adicionar_numero_linha >= linhas:\n",
    "                        break\n",
    "                    if campo[adicionar_numero_coluna][adicionar_numero_linha] != \"*\":\n",
    "                        campo[adicionar_numero_coluna][adicionar_numero_linha] += 1"
   ]
  },
  {
   "cell_type": "markdown",
   "id": "2bccd1c6",
   "metadata": {},
   "source": [
    "Criação de uma lista para armazenar a localização já vista"
   ]
  },
  {
   "cell_type": "code",
   "execution_count": null,
   "id": "b258ae4b",
   "metadata": {},
   "outputs": [],
   "source": [
    "itens_vistos = set()"
   ]
  },
  {
   "cell_type": "markdown",
   "id": "35157f39",
   "metadata": {},
   "source": [
    "Exibindo A matriz vazia na tela, para esconder onde estão as bombas"
   ]
  },
  {
   "cell_type": "code",
   "execution_count": null,
   "id": "c87c140d",
   "metadata": {},
   "outputs": [
    {
     "name": "stdout",
     "output_type": "stream",
     "text": [
      "|   ||   ||   ||   ||   |\n",
      "|   ||   ||   ||   ||   |\n",
      "|   ||   ||   || 2 ||   |\n",
      "|   ||   ||   ||   ||   |\n",
      "|   ||   ||   ||   ||   |\n"
     ]
    }
   ],
   "source": [
    "for numero_coluna, coluna in enumerate(campo):\n",
    "    print(\"\".join((\"|   |\" if (numero_coluna, numero_linha) not in itens_vistos else f\"| {linha} |\") for numero_linha, linha in enumerate(coluna)))\n",
    "    "
   ]
  }
 ],
 "metadata": {
  "kernelspec": {
   "display_name": "Python 3",
   "language": "python",
   "name": "python3"
  },
  "language_info": {
   "codemirror_mode": {
    "name": "ipython",
    "version": 3
   },
   "file_extension": ".py",
   "mimetype": "text/x-python",
   "name": "python",
   "nbconvert_exporter": "python",
   "pygments_lexer": "ipython3",
   "version": "3.13.3"
  }
 },
 "nbformat": 4,
 "nbformat_minor": 5
}
